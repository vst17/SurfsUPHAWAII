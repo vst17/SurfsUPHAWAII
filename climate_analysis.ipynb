{
 "cells": [
  {
   "cell_type": "markdown",
   "metadata": {},
   "source": [
    "# Analysis\n",
    "\n",
    "1. Precipitation analysis for the last 12 months starting August 24, 2016 - August 23, 2017. It includes precipitation data for all weather stations in Hawaii.\n",
    "\n",
    "2. Station analysis for the most active stations in Hawaii including the 12 months of temperature observation data\n",
    "\n",
    "3. Temperature analysis for 15 days of vacation days, including the min , avg, and max temperatures in Hawaii. \n"
   ]
  },
  {
   "cell_type": "code",
   "execution_count": 1,
   "metadata": {},
   "outputs": [],
   "source": [
    "# Import SQLAlchemy dependencies\n",
    "import sqlalchemy\n",
    "from sqlalchemy.ext.automap import automap_base\n",
    "from sqlalchemy import create_engine,inspect, func, desc\n",
    "from sqlalchemy.ext.declarative import declarative_base\n",
    "from sqlalchemy.orm import Session\n",
    "\n",
    "#Dependencies for analysis\n",
    "import pandas as pd\n",
    "import numpy as np\n",
    "import datetime as dt\n",
    "import matplotlib\n",
    "from matplotlib import style\n",
    "style.use('fivethirtyeight')\n",
    "import matplotlib.pyplot as plt"
   ]
  },
  {
   "cell_type": "code",
   "execution_count": 2,
   "metadata": {},
   "outputs": [],
   "source": [
    "# Create engine & connection\n",
    "engine = create_engine(\"sqlite:///Resources/hawaii.sqlite\", echo = False)\n",
    "conn = engine.connect()"
   ]
  },
  {
   "cell_type": "code",
   "execution_count": 3,
   "metadata": {},
   "outputs": [
    {
     "data": {
      "text/plain": [
       "['measurement', 'station']"
      ]
     },
     "execution_count": 3,
     "metadata": {},
     "output_type": "execute_result"
    }
   ],
   "source": [
    "# Reflect Database into ORM classes\n",
    "Base = automap_base()\n",
    "Base.prepare(engine, reflect=True)\n",
    "Base.classes.keys()"
   ]
  },
  {
   "cell_type": "code",
   "execution_count": 4,
   "metadata": {},
   "outputs": [],
   "source": [
    "# Map measurement and station classes (saving references)\n",
    "Measurement = Base.classes.measurement\n",
    "Station = Base.classes.station"
   ]
  },
  {
   "cell_type": "code",
   "execution_count": 5,
   "metadata": {},
   "outputs": [],
   "source": [
    "# create a session\n",
    "session = Session(engine)"
   ]
  },
  {
   "cell_type": "markdown",
   "metadata": {},
   "source": [
    "# Precipitation Analysis"
   ]
  },
  {
   "cell_type": "code",
   "execution_count": 6,
   "metadata": {},
   "outputs": [],
   "source": [
    "# Retrieve the last 12 months of precipitation data\n",
    "# query to retreieve latest date\n",
    "lastest_date = session.query(Measurement.date).order_by(Measurement.date.desc()).first()\n",
    "\n",
    "#query to retrieve 365 days from lastest_date\n",
    "first_date = dt.date(2017,8, 23) - dt.timedelta(days=365)\n",
    "\n",
    "one_year_precipitation = session.query(Measurement.date, Measurement.prcp).\\\n",
    "                        filter(Measurement.date > first_date).\\\n",
    "                        order_by(Measurement.date).all()"
   ]
  },
  {
   "cell_type": "code",
   "execution_count": 59,
   "metadata": {},
   "outputs": [
    {
     "data": {
      "text/html": [
       "<div>\n",
       "<style scoped>\n",
       "    .dataframe tbody tr th:only-of-type {\n",
       "        vertical-align: middle;\n",
       "    }\n",
       "\n",
       "    .dataframe tbody tr th {\n",
       "        vertical-align: top;\n",
       "    }\n",
       "\n",
       "    .dataframe thead th {\n",
       "        text-align: right;\n",
       "    }\n",
       "</style>\n",
       "<table border=\"1\" class=\"dataframe\">\n",
       "  <thead>\n",
       "    <tr style=\"text-align: right;\">\n",
       "      <th></th>\n",
       "      <th>Precipitation</th>\n",
       "    </tr>\n",
       "    <tr>\n",
       "      <th>Date</th>\n",
       "      <th></th>\n",
       "    </tr>\n",
       "  </thead>\n",
       "  <tbody>\n",
       "    <tr>\n",
       "      <th>2016-08-24</th>\n",
       "      <td>1.555000</td>\n",
       "    </tr>\n",
       "    <tr>\n",
       "      <th>2016-08-25</th>\n",
       "      <td>0.077143</td>\n",
       "    </tr>\n",
       "    <tr>\n",
       "      <th>2016-08-26</th>\n",
       "      <td>0.016667</td>\n",
       "    </tr>\n",
       "    <tr>\n",
       "      <th>2016-08-27</th>\n",
       "      <td>0.064000</td>\n",
       "    </tr>\n",
       "    <tr>\n",
       "      <th>2016-08-28</th>\n",
       "      <td>0.516667</td>\n",
       "    </tr>\n",
       "  </tbody>\n",
       "</table>\n",
       "</div>"
      ],
      "text/plain": [
       "            Precipitation\n",
       "Date                     \n",
       "2016-08-24       1.555000\n",
       "2016-08-25       0.077143\n",
       "2016-08-26       0.016667\n",
       "2016-08-27       0.064000\n",
       "2016-08-28       0.516667"
      ]
     },
     "execution_count": 59,
     "metadata": {},
     "output_type": "execute_result"
    }
   ],
   "source": [
    "# Creating dataframe\n",
    "precipitation_df = pd.DataFrame(one_year_precipitation, columns=['Date', 'Precipitation'])\n",
    "# precipitation_df.head()\n",
    "\n",
    "# Change the date to a datetime format.\n",
    "precipitation_df['Date'] = pd.to_datetime(precipitation_df['Date'], format='%Y/%m/%d')\n",
    "\n",
    "#Get the total for each station for each date and set the index as the date.\n",
    "total_precipitation = precipitation_df.pivot_table(precipitation_df, index=['Date'], aggfunc='mean')\n",
    "total_precipitation.head()"
   ]
  },
  {
   "cell_type": "code",
   "execution_count": 8,
   "metadata": {},
   "outputs": [
    {
     "data": {
      "image/png": "[encoded data removed]",
      "text/plain": [
       "<matplotlib.figure.Figure at 0x2023a7a5518>"
      ]
     },
     "metadata": {},
     "output_type": "display_data"
    }
   ],
   "source": [
    "# Plot the dataframe as a horizontal bar chart using pandas plotting\n",
    "style.use('fivethirtyeight')\n",
    "\n",
    "plt.bar(total_precipitation.index, total_precipitation[\"Precipitation\"], width=2.5, color=\"orange\")\n",
    "plt.rcParams[\"figure.figsize\"] = [12,6]\n",
    "plt.xlabel(\"Date\")\n",
    "plt.ylabel(\"Average Rain(inches)\")\n",
    "plt.title(\"Precipitation Analysis (8/24/2016 to 8/23/2017)\")\n",
    "plt.legend([\"Precipitation\"])\n",
    "plt.xticks(rotation=45)\n",
    "plt.show()"
   ]
  },
  {
   "cell_type": "code",
   "execution_count": 9,
   "metadata": {},
   "outputs": [
    {
     "data": {
      "text/html": [
       "<div>\n",
       "<style scoped>\n",
       "    .dataframe tbody tr th:only-of-type {\n",
       "        vertical-align: middle;\n",
       "    }\n",
       "\n",
       "    .dataframe tbody tr th {\n",
       "        vertical-align: top;\n",
       "    }\n",
       "\n",
       "    .dataframe thead th {\n",
       "        text-align: right;\n",
       "    }\n",
       "</style>\n",
       "<table border=\"1\" class=\"dataframe\">\n",
       "  <thead>\n",
       "    <tr style=\"text-align: right;\">\n",
       "      <th></th>\n",
       "      <th>Precipitation</th>\n",
       "    </tr>\n",
       "  </thead>\n",
       "  <tbody>\n",
       "    <tr>\n",
       "      <th>count</th>\n",
       "      <td>365.000000</td>\n",
       "    </tr>\n",
       "    <tr>\n",
       "      <th>mean</th>\n",
       "      <td>0.169987</td>\n",
       "    </tr>\n",
       "    <tr>\n",
       "      <th>std</th>\n",
       "      <td>0.295722</td>\n",
       "    </tr>\n",
       "    <tr>\n",
       "      <th>min</th>\n",
       "      <td>0.000000</td>\n",
       "    </tr>\n",
       "    <tr>\n",
       "      <th>25%</th>\n",
       "      <td>0.008571</td>\n",
       "    </tr>\n",
       "    <tr>\n",
       "      <th>50%</th>\n",
       "      <td>0.070000</td>\n",
       "    </tr>\n",
       "    <tr>\n",
       "      <th>75%</th>\n",
       "      <td>0.191667</td>\n",
       "    </tr>\n",
       "    <tr>\n",
       "      <th>max</th>\n",
       "      <td>2.380000</td>\n",
       "    </tr>\n",
       "  </tbody>\n",
       "</table>\n",
       "</div>"
      ],
      "text/plain": [
       "       Precipitation\n",
       "count     365.000000\n",
       "mean        0.169987\n",
       "std         0.295722\n",
       "min         0.000000\n",
       "25%         0.008571\n",
       "50%         0.070000\n",
       "75%         0.191667\n",
       "max         2.380000"
      ]
     },
     "execution_count": 9,
     "metadata": {},
     "output_type": "execute_result"
    }
   ],
   "source": [
    "#Summary Statistics\n",
    "total_precipitation.describe()"
   ]
  },
  {
   "cell_type": "markdown",
   "metadata": {},
   "source": [
    "# Station Analysis"
   ]
  },
  {
   "cell_type": "code",
   "execution_count": 33,
   "metadata": {},
   "outputs": [
    {
     "name": "stdout",
     "output_type": "stream",
     "text": [
      "There are a total of: 9 stations\n"
     ]
    }
   ],
   "source": [
    "#Find the total number of stations\n",
    "total_stations = session.query(Station.station).count()\n",
    "print(\"There are a total of:\" + \" \" + str(total_stations) + \" \" + \"stations\")"
   ]
  },
  {
   "cell_type": "code",
   "execution_count": 11,
   "metadata": {},
   "outputs": [
    {
     "name": "stdout",
     "output_type": "stream",
     "text": [
      "('USC00519281', 2772)\n",
      "('USC00519397', 2724)\n",
      "('USC00513117', 2709)\n",
      "('USC00519523', 2669)\n",
      "('USC00516128', 2612)\n",
      "('USC00514830', 2202)\n",
      "('USC00511918', 1979)\n",
      "('USC00517948', 1372)\n",
      "('USC00518838', 511)\n"
     ]
    }
   ],
   "source": [
    "# What are the most active stations?\n",
    "# List the stations and the counts in descending order.\n",
    "# Query to find observation counts by station\n",
    "station_tobs = session.query(Measurement.station, func.count(Measurement.tobs))\\\n",
    "             .group_by(Measurement.station)\\\n",
    "             .order_by(func.count(Measurement.tobs).desc())\n",
    "\n",
    "# Printing observations\n",
    "for station in station_tobs:\n",
    "    print(station)\n",
    "    \n",
    "# Storing station name\n",
    "top_station = station_tobs[0][0]"
   ]
  },
  {
   "cell_type": "code",
   "execution_count": 12,
   "metadata": {},
   "outputs": [
    {
     "name": "stdout",
     "output_type": "stream",
     "text": [
      "USC00519281\n",
      "2772\n"
     ]
    }
   ],
   "source": [
    "#Which station has the highest number of observations?\n",
    "max_observations = session.query(Measurement.station, func.count(Measurement.tobs))\\\n",
    "             .group_by(Measurement.station)\\\n",
    "             .order_by(func.count(Measurement.tobs).desc()).first()\n",
    "for station in max_observations:\n",
    "    print(station)"
   ]
  },
  {
   "cell_type": "code",
   "execution_count": 13,
   "metadata": {},
   "outputs": [
    {
     "name": "stdout",
     "output_type": "stream",
     "text": [
      "The stations with the highest number of observations in the last 12 months in descending order are:\n",
      "\n",
      "Station: USC00519397 in WAIKIKI 717.2, HI US with 360 observations.\n",
      "Station: USC00519281 in WAIHEE 837.5, HI US with 351 observations.\n",
      "Station: USC00516128 in MANOA LYON ARBO 785.2, HI US with 348 observations.\n",
      "Station: USC00513117 in KANEOHE 838.1, HI US with 342 observations.\n",
      "Station: USC00519523 in WAIMANALO EXPERIMENTAL FARM, HI US with 336 observations.\n",
      "Station: USC00514830 in KUALOA RANCH HEADQUARTERS 886.9, HI US with 304 observations.\n",
      "Station: USC00517948 in PEARL CITY, HI US with 182 observations.\n"
     ]
    }
   ],
   "source": [
    "# Design a query to retrieve the last 12 months of temperature observation data (tobs).\n",
    "station_12months = session.query(Measurement.station, Station.name, func.count(Measurement.tobs)).\\\n",
    "                    filter(Measurement.station == Station.station).\\\n",
    "                    group_by(Measurement.station).\\\n",
    "                    filter(Measurement.date > first_date).\\\n",
    "                    order_by(func.count(Measurement.tobs).desc()).all()\n",
    "\n",
    "busiest_station = station_12months[0][0:2]   \n",
    "\n",
    "print(\"The stations with the highest number of observations in the last 12 months in descending order are:\")\n",
    "print()\n",
    "for station, name, count in station_12months:\n",
    "    print(\"Station:\",station, \"in\",name,\"with\",count, \"observations.\")"
   ]
  },
  {
   "cell_type": "code",
   "execution_count": 22,
   "metadata": {},
   "outputs": [
    {
     "data": {
      "text/html": [
       "<div>\n",
       "<style scoped>\n",
       "    .dataframe tbody tr th:only-of-type {\n",
       "        vertical-align: middle;\n",
       "    }\n",
       "\n",
       "    .dataframe tbody tr th {\n",
       "        vertical-align: top;\n",
       "    }\n",
       "\n",
       "    .dataframe thead th {\n",
       "        text-align: right;\n",
       "    }\n",
       "</style>\n",
       "<table border=\"1\" class=\"dataframe\">\n",
       "  <thead>\n",
       "    <tr style=\"text-align: right;\">\n",
       "      <th></th>\n",
       "      <th>Date</th>\n",
       "      <th>Tobs</th>\n",
       "    </tr>\n",
       "  </thead>\n",
       "  <tbody>\n",
       "    <tr>\n",
       "      <th>0</th>\n",
       "      <td>2016-08-24</td>\n",
       "      <td>79.0</td>\n",
       "    </tr>\n",
       "    <tr>\n",
       "      <th>1</th>\n",
       "      <td>2016-08-25</td>\n",
       "      <td>80.0</td>\n",
       "    </tr>\n",
       "    <tr>\n",
       "      <th>2</th>\n",
       "      <td>2016-08-26</td>\n",
       "      <td>79.0</td>\n",
       "    </tr>\n",
       "    <tr>\n",
       "      <th>3</th>\n",
       "      <td>2016-08-27</td>\n",
       "      <td>77.0</td>\n",
       "    </tr>\n",
       "    <tr>\n",
       "      <th>4</th>\n",
       "      <td>2016-08-28</td>\n",
       "      <td>78.0</td>\n",
       "    </tr>\n",
       "  </tbody>\n",
       "</table>\n",
       "</div>"
      ],
      "text/plain": [
       "         Date  Tobs\n",
       "0  2016-08-24  79.0\n",
       "1  2016-08-25  80.0\n",
       "2  2016-08-26  79.0\n",
       "3  2016-08-27  77.0\n",
       "4  2016-08-28  78.0"
      ]
     },
     "execution_count": 22,
     "metadata": {},
     "output_type": "execute_result"
    }
   ],
   "source": [
    "# TOBS = Temperature OBServation \n",
    "# Filter by the station with the highest number of observations.\n",
    "highest_obs = session.query(Measurement.date, Measurement.tobs).\\\n",
    "    filter(Measurement.station == busiest_station[0]).\\\n",
    "    filter(Measurement.date > first_date).\\\n",
    "    order_by(Measurement.date).all()\n",
    "\n",
    "#DataFrame. \n",
    "highest_obs_df = pd.DataFrame(highest_obs, columns=['Date', 'Tobs'])\n",
    "tobs_df.head()"
   ]
  },
  {
   "cell_type": "code",
   "execution_count": 24,
   "metadata": {},
   "outputs": [
    {
     "data": {
      "image/png": "[encoded data removed]",
      "text/plain": [
       "<matplotlib.figure.Figure at 0x2023ac11780>"
      ]
     },
     "metadata": {},
     "output_type": "display_data"
    }
   ],
   "source": [
    "#Histograph\n",
    "plt.hist(highest_obs_df['Tobs'], bins=12, color = 'orange')\n",
    "plt.rcParams['figure.figsize'] = [10,6]\n",
    "plt.xlabel('Recorded Temperature')\n",
    "plt.ylabel('Frequency of Observations')\n",
    "plt.title(\"Station Analysis:USC00519397 in WAIKIKI 717.2, HI, US (8/24/16-8/23/2017)\")\n",
    "plt.legend(['Tobs'])\n",
    "plt.show()"
   ]
  },
  {
   "cell_type": "markdown",
   "metadata": {},
   "source": [
    "# Temperature Analysis"
   ]
  },
  {
   "cell_type": "code",
   "execution_count": 38,
   "metadata": {},
   "outputs": [
    {
     "name": "stdout",
     "output_type": "stream",
     "text": [
      "From 2017-08-01 to 2017-08-15 the minimum temperature is 70.0 °F, the maximum temperature is 84.0 °F.\n"
     ]
    }
   ],
   "source": [
    "#Use the `calc_temps` function to calculate the min, avg, and max temperatures for your trip using\n",
    "#the matching dates from the previous year (i.e. use \"2017-01-01\" if your trip start date was \"2018-01-01\")\n",
    "\n",
    "# Convering to date time\n",
    "def calc_temps(start_date, end_date):\n",
    "    query = session.query(func.min(Measurement.tobs), func.max(Measurement.tobs), func.avg(Measurement.tobs)).\\\n",
    "    filter(Measurement.date >= start_date). filter(Measurement.date <= end_date). all()\n",
    "    \n",
    "    for Min_temp, Max_temp, Avg_temp in query:\n",
    "        print(\"From\", start_date, \"to\", end_date, \"the minimum temperature is\",Min_temp, '\\u00b0'\"F, the maximum temperature is\",\n",
    "              Max_temp, '\\u00b0'\"F.\")\n",
    "# 15 day vacation\n",
    "calc_temps('2017-08-01', '2017-08-15')"
   ]
  },
  {
   "cell_type": "code",
   "execution_count": 54,
   "metadata": {},
   "outputs": [
    {
     "data": {
      "text/html": [
       "<div>\n",
       "<style scoped>\n",
       "    .dataframe tbody tr th:only-of-type {\n",
       "        vertical-align: middle;\n",
       "    }\n",
       "\n",
       "    .dataframe tbody tr th {\n",
       "        vertical-align: top;\n",
       "    }\n",
       "\n",
       "    .dataframe thead th {\n",
       "        text-align: right;\n",
       "    }\n",
       "</style>\n",
       "<table border=\"1\" class=\"dataframe\">\n",
       "  <thead>\n",
       "    <tr style=\"text-align: right;\">\n",
       "      <th></th>\n",
       "      <th>Date</th>\n",
       "      <th>Tobs</th>\n",
       "    </tr>\n",
       "  </thead>\n",
       "  <tbody>\n",
       "    <tr>\n",
       "      <th>0</th>\n",
       "      <td>2017-08-01</td>\n",
       "      <td>77.0</td>\n",
       "    </tr>\n",
       "    <tr>\n",
       "      <th>1</th>\n",
       "      <td>2017-08-02</td>\n",
       "      <td>73.0</td>\n",
       "    </tr>\n",
       "    <tr>\n",
       "      <th>2</th>\n",
       "      <td>2017-08-03</td>\n",
       "      <td>79.0</td>\n",
       "    </tr>\n",
       "    <tr>\n",
       "      <th>3</th>\n",
       "      <td>2017-08-04</td>\n",
       "      <td>80.0</td>\n",
       "    </tr>\n",
       "    <tr>\n",
       "      <th>4</th>\n",
       "      <td>2017-08-05</td>\n",
       "      <td>81.0</td>\n",
       "    </tr>\n",
       "  </tbody>\n",
       "</table>\n",
       "</div>"
      ],
      "text/plain": [
       "         Date  Tobs\n",
       "0  2017-08-01  77.0\n",
       "1  2017-08-02  73.0\n",
       "2  2017-08-03  79.0\n",
       "3  2017-08-04  80.0\n",
       "4  2017-08-05  81.0"
      ]
     },
     "execution_count": 54,
     "metadata": {},
     "output_type": "execute_result"
    }
   ],
   "source": [
    "start_date = '2017-08-01'\n",
    "end_date = '2017-08-15'\n",
    "\n",
    "vacation_2017 = session.query(Measurement.date, Measurement.tobs).\\\n",
    "    filter(Measurement.date >= start_date).filter(Measurement.date <= end_date).all()\n",
    "\n",
    "#put it in a dataframe\n",
    "\n",
    "Vacation_temperatures = pd.DataFrame(vacation_2017, columns=['Date', 'Tobs'])\n",
    "Vacation_temperatures.head()"
   ]
  },
  {
   "cell_type": "code",
   "execution_count": 55,
   "metadata": {},
   "outputs": [
    {
     "data": {
      "text/html": [
       "<div>\n",
       "<style scoped>\n",
       "    .dataframe tbody tr th:only-of-type {\n",
       "        vertical-align: middle;\n",
       "    }\n",
       "\n",
       "    .dataframe tbody tr th {\n",
       "        vertical-align: top;\n",
       "    }\n",
       "\n",
       "    .dataframe thead th {\n",
       "        text-align: right;\n",
       "    }\n",
       "</style>\n",
       "<table border=\"1\" class=\"dataframe\">\n",
       "  <thead>\n",
       "    <tr style=\"text-align: right;\">\n",
       "      <th></th>\n",
       "      <th>Tobs</th>\n",
       "    </tr>\n",
       "  </thead>\n",
       "  <tbody>\n",
       "    <tr>\n",
       "      <th>count</th>\n",
       "      <td>61.000000</td>\n",
       "    </tr>\n",
       "    <tr>\n",
       "      <th>mean</th>\n",
       "      <td>78.868852</td>\n",
       "    </tr>\n",
       "    <tr>\n",
       "      <th>std</th>\n",
       "      <td>3.283674</td>\n",
       "    </tr>\n",
       "    <tr>\n",
       "      <th>min</th>\n",
       "      <td>70.000000</td>\n",
       "    </tr>\n",
       "    <tr>\n",
       "      <th>25%</th>\n",
       "      <td>77.000000</td>\n",
       "    </tr>\n",
       "    <tr>\n",
       "      <th>50%</th>\n",
       "      <td>80.000000</td>\n",
       "    </tr>\n",
       "    <tr>\n",
       "      <th>75%</th>\n",
       "      <td>81.000000</td>\n",
       "    </tr>\n",
       "    <tr>\n",
       "      <th>max</th>\n",
       "      <td>84.000000</td>\n",
       "    </tr>\n",
       "  </tbody>\n",
       "</table>\n",
       "</div>"
      ],
      "text/plain": [
       "            Tobs\n",
       "count  61.000000\n",
       "mean   78.868852\n",
       "std     3.283674\n",
       "min    70.000000\n",
       "25%    77.000000\n",
       "50%    80.000000\n",
       "75%    81.000000\n",
       "max    84.000000"
      ]
     },
     "execution_count": 55,
     "metadata": {},
     "output_type": "execute_result"
    }
   ],
   "source": [
    "# obtaining whisker box elements\n",
    "Vacation_temperatures.describe()"
   ]
  },
  {
   "cell_type": "code",
   "execution_count": 56,
   "metadata": {},
   "outputs": [
    {
     "data": {
      "image/png": "[encoded data removed]",
      "text/plain": [
       "<matplotlib.figure.Figure at 0x2023c112fd0>"
      ]
     },
     "metadata": {},
     "output_type": "display_data"
    }
   ],
   "source": [
    "#Whisker Box \n",
    "avg_temp = Vacation_temperatures.mean()\n",
    "temperature_range = (Vacation_temperatures['Tobs'].max() - Vacation_temperatures['Tobs'].min())\n",
    "\n",
    "p = avg_temp.plot(legend = False, kind = 'bar', color = 'orange', yerr = temperature_range,\n",
    "                 width = 0.1, figsize = (5,3))\n",
    "p.set_title(\"Vacation Avg Temperature\")\n",
    "p.set_ylabel(\"Temperature(°F)\")\n",
    "p.set_ylim(0,100)\n",
    "plt.show()"
   ]
  }
 ],
 "metadata": {
  "kernelspec": {
   "display_name": "Python 3",
   "language": "python",
   "name": "python3"
  },
  "language_info": {
   "codemirror_mode": {
    "name": "ipython",
    "version": 3
   },
   "file_extension": ".py",
   "mimetype": "text/x-python",
   "name": "python",
   "nbconvert_exporter": "python",
   "pygments_lexer": "ipython3",
   "version": "3.6.4"
  }
 },
 "nbformat": 4,
 "nbformat_minor": 2
}
